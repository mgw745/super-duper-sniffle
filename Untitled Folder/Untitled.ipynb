{
 "cells": [
  {
   "cell_type": "markdown",
   "metadata": {},
   "source": [
    "### Relevant packages"
   ]
  },
  {
   "cell_type": "code",
   "execution_count": 28,
   "metadata": {},
   "outputs": [],
   "source": [
    "import requests\n",
    "from bs4 import BeautifulSoup\n",
    "import re\n",
    "import selenium\n",
    "import time\n",
    "import pandas as pd"
   ]
  },
  {
   "cell_type": "code",
   "execution_count": 29,
   "metadata": {},
   "outputs": [],
   "source": [
    "import scraping_class\n",
    "logfile = 'log.csv'## name your log file.\n",
    "connector = scraping_class.Connector(logfile)"
   ]
  },
  {
   "cell_type": "code",
   "execution_count": 30,
   "metadata": {},
   "outputs": [],
   "source": [
    "url = 'https://www.trustpilot.com/categories'\n",
    "page = requests.get(url)\n",
    "\n",
    "soup = BeautifulSoup(page.content, 'html.parser')"
   ]
  },
  {
   "cell_type": "code",
   "execution_count": 31,
   "metadata": {},
   "outputs": [],
   "source": [
    "#alllinks = soup.find_all('li', {'class': 'categories_categoryListObject__3WjQQ'})"
   ]
  },
  {
   "cell_type": "code",
   "execution_count": 36,
   "metadata": {},
   "outputs": [
    {
     "data": {
      "text/plain": [
       "['https://www.trustpilot.com/categories/animals_pets',\n",
       " 'https://www.trustpilot.com/categories/beauty_wellbeing',\n",
       " 'https://www.trustpilot.com/categories/business_services',\n",
       " 'https://www.trustpilot.com/categories/construction_manufactoring',\n",
       " 'https://www.trustpilot.com/categories/education_training',\n",
       " 'https://www.trustpilot.com/categories/electronics_technology',\n",
       " 'https://www.trustpilot.com/categories/events_entertainment',\n",
       " 'https://www.trustpilot.com/categories/food_beverages_tobacco',\n",
       " 'https://www.trustpilot.com/categories/health_medical',\n",
       " 'https://www.trustpilot.com/categories/hobbies_crafts',\n",
       " 'https://www.trustpilot.com/categories/home_garden',\n",
       " 'https://www.trustpilot.com/categories/home_services',\n",
       " 'https://www.trustpilot.com/categories/legal_services_government',\n",
       " 'https://www.trustpilot.com/categories/media_publishing',\n",
       " 'https://www.trustpilot.com/categories/money_insurance',\n",
       " 'https://www.trustpilot.com/categories/public_local_services',\n",
       " 'https://www.trustpilot.com/categories/restaurants_bars',\n",
       " 'https://www.trustpilot.com/categories/shopping_fashion',\n",
       " 'https://www.trustpilot.com/categories/sports',\n",
       " 'https://www.trustpilot.com/categories/travel_vacation',\n",
       " 'https://www.trustpilot.com/categories/utilities',\n",
       " 'https://www.trustpilot.com/categories/vehicles_transportation']"
      ]
     },
     "execution_count": 36,
     "metadata": {},
     "output_type": "execute_result"
    }
   ],
   "source": [
    "results = soup.find_all('li', {'class': 'categories_categoryListObject__3WjQQ' })\n",
    "links = []\n",
    "\n",
    "for i in range(len(results)):\n",
    "    link = 'https://www.trustpilot.com'+ results[i].a['href']\n",
    "    links.append(link)\n",
    "    \n",
    "links"
   ]
  },
  {
   "cell_type": "code",
   "execution_count": null,
   "metadata": {},
   "outputs": [],
   "source": []
  },
  {
   "cell_type": "code",
   "execution_count": 15,
   "metadata": {},
   "outputs": [],
   "source": []
  },
  {
   "cell_type": "code",
   "execution_count": null,
   "metadata": {},
   "outputs": [],
   "source": []
  },
  {
   "cell_type": "code",
   "execution_count": null,
   "metadata": {},
   "outputs": [],
   "source": []
  },
  {
   "cell_type": "code",
   "execution_count": null,
   "metadata": {},
   "outputs": [],
   "source": []
  }
 ],
 "metadata": {
  "kernelspec": {
   "display_name": "Python 3.8.5 64-bit ('base': conda)",
   "language": "python",
   "name": "python385jvsc74a57bd066fbec58227355c350dcf1e6ef44d2dae3e7a8852ed1dd0f0a41e72f62dd135b"
  },
  "language_info": {
   "codemirror_mode": {
    "name": "ipython",
    "version": 3
   },
   "file_extension": ".py",
   "mimetype": "text/x-python",
   "name": "python",
   "nbconvert_exporter": "python",
   "pygments_lexer": "ipython3",
   "version": "3.8.5"
  }
 },
 "nbformat": 4,
 "nbformat_minor": 4
}
